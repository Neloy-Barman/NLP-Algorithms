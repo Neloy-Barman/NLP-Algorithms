{
  "nbformat": 4,
  "nbformat_minor": 0,
  "metadata": {
    "colab": {
      "provenance": []
    },
    "kernelspec": {
      "name": "python3",
      "display_name": "Python 3"
    },
    "language_info": {
      "name": "python"
    }
  },
  "cells": [
    {
      "cell_type": "markdown",
      "source": [
        "# **`Bag Of Words`**"
      ],
      "metadata": {
        "id": "OvY9q6Ssyyu5"
      }
    },
    {
      "cell_type": "markdown",
      "source": [
        "## **`Necessary imports`**"
      ],
      "metadata": {
        "id": "VBiHQdJqmbhL"
      }
    },
    {
      "cell_type": "code",
      "execution_count": 167,
      "metadata": {
        "id": "ivRMPw-Wlrbf"
      },
      "outputs": [],
      "source": [
        "import pandas as pd"
      ]
    },
    {
      "cell_type": "markdown",
      "source": [
        "## **`Number of sentences in the corpus`** "
      ],
      "metadata": {
        "id": "ShS5Pg9bnGZi"
      }
    },
    {
      "cell_type": "code",
      "source": [
        "sNumber = int(input(\"Enter number of sentences: \"))"
      ],
      "metadata": {
        "colab": {
          "base_uri": "https://localhost:8080/"
        },
        "id": "ds4tzyXLl3ET",
        "outputId": "e3c8f430-3921-48cc-b860-6a216bdf5271"
      },
      "execution_count": 168,
      "outputs": [
        {
          "name": "stdout",
          "output_type": "stream",
          "text": [
            "Enter number of sentences: 4\n"
          ]
        }
      ]
    },
    {
      "cell_type": "markdown",
      "source": [
        "## **`Inputing the sentences`**"
      ],
      "metadata": {
        "id": "0PEDIKQhxWx4"
      }
    },
    {
      "cell_type": "code",
      "source": [
        "sentences = dict()\n",
        "for i in range(0, sNumber):\n",
        "  sentences[f\"S{i+1}\"] = input().lower()"
      ],
      "metadata": {
        "colab": {
          "base_uri": "https://localhost:8080/"
        },
        "id": "OnJ4Byc9l3IK",
        "outputId": "c56778c5-970d-4916-99ff-1e4db77178df"
      },
      "execution_count": 169,
      "outputs": [
        {
          "name": "stdout",
          "output_type": "stream",
          "text": [
            "It was the best of times\n",
            "it was the worst of times\n",
            "it is the time of stupidity\n",
            "it is the age of foolishness\n"
          ]
        }
      ]
    },
    {
      "cell_type": "markdown",
      "source": [
        "## **`Viewing the sentences`**"
      ],
      "metadata": {
        "id": "DOqNH5kHnuyJ"
      }
    },
    {
      "cell_type": "code",
      "source": [
        "sentences"
      ],
      "metadata": {
        "colab": {
          "base_uri": "https://localhost:8080/"
        },
        "id": "g5bqpsqnl3MC",
        "outputId": "79aae320-02bd-4c03-b26f-229cd9420c1e"
      },
      "execution_count": 170,
      "outputs": [
        {
          "output_type": "execute_result",
          "data": {
            "text/plain": [
              "{'S1': 'it was the best of times',\n",
              " 'S2': 'it was the worst of times',\n",
              " 'S3': 'it is the time of stupidity',\n",
              " 'S4': 'it is the age of foolishness'}"
            ]
          },
          "metadata": {},
          "execution_count": 170
        }
      ]
    },
    {
      "cell_type": "markdown",
      "source": [
        "## **`Splitting the sentences in words`**"
      ],
      "metadata": {
        "id": "3fExa7KGxcRx"
      }
    },
    {
      "cell_type": "code",
      "source": [
        "totalWords = set()\n",
        "# Using set, because we need unique words.\n",
        "\n",
        "for i in range(0, sNumber):\n",
        "  s = sentences[f\"S{i+1}\"].split()\n",
        "  for i in range(len(s)):\n",
        "    totalWords.add(s[i])"
      ],
      "metadata": {
        "id": "JXcKD5Uzl3T5"
      },
      "execution_count": 171,
      "outputs": []
    },
    {
      "cell_type": "markdown",
      "source": [
        "## **`Converting the set to the list`**"
      ],
      "metadata": {
        "id": "jJ9zxdsxxo2x"
      }
    },
    {
      "cell_type": "code",
      "source": [
        "totalWords = list(totalWords)\n",
        "totalWords"
      ],
      "metadata": {
        "colab": {
          "base_uri": "https://localhost:8080/"
        },
        "id": "VK0J_pRal3Xp",
        "outputId": "58aecf24-afb4-4c79-ede1-e91a84592ac4"
      },
      "execution_count": 172,
      "outputs": [
        {
          "output_type": "execute_result",
          "data": {
            "text/plain": [
              "['time',\n",
              " 'age',\n",
              " 'times',\n",
              " 'foolishness',\n",
              " 'was',\n",
              " 'best',\n",
              " 'is',\n",
              " 'stupidity',\n",
              " 'of',\n",
              " 'worst',\n",
              " 'it',\n",
              " 'the']"
            ]
          },
          "metadata": {},
          "execution_count": 172
        }
      ]
    },
    {
      "cell_type": "markdown",
      "source": [
        "## **`Removing the stopwords`**"
      ],
      "metadata": {
        "id": "9XuT5NvzxtLh"
      }
    },
    {
      "cell_type": "code",
      "source": [
        "stopWords = [ 'stop', 'the', 'to', 'and', 'a', 'in', 'it', 'is', 'I', 'that', 'had', 'on', 'for', 'are', 'is', 'were', 'was', 'he', 'she']\n",
        "finalWords = []\n",
        "for i in range(0, len(totalWords)):\n",
        "  if totalWords[i] not in stopWords:\n",
        "    finalWords.append(totalWords[i])"
      ],
      "metadata": {
        "id": "Xg8bWhYsl3bh"
      },
      "execution_count": 173,
      "outputs": []
    },
    {
      "cell_type": "markdown",
      "source": [
        "## **`Sorting the words in alphabetical order`**"
      ],
      "metadata": {
        "id": "FwlgWAcHx6Zh"
      }
    },
    {
      "cell_type": "code",
      "source": [
        "finalWords = sorted(finalWords)"
      ],
      "metadata": {
        "id": "hNuatNTEsr5R"
      },
      "execution_count": 174,
      "outputs": []
    },
    {
      "cell_type": "markdown",
      "source": [
        "## **`Preparing the indexes from the corpus`** "
      ],
      "metadata": {
        "id": "LnCRvvj6yC_B"
      }
    },
    {
      "cell_type": "code",
      "source": [
        "indexes = [i for i in sentences.keys()]\n",
        "indexes"
      ],
      "metadata": {
        "colab": {
          "base_uri": "https://localhost:8080/"
        },
        "id": "Yi4Gb8AFl3fR",
        "outputId": "1a341dc2-be92-48a1-f0b0-496661d0761a"
      },
      "execution_count": 175,
      "outputs": [
        {
          "output_type": "execute_result",
          "data": {
            "text/plain": [
              "['S1', 'S2', 'S3', 'S4']"
            ]
          },
          "metadata": {},
          "execution_count": 175
        }
      ]
    },
    {
      "cell_type": "markdown",
      "source": [
        "## **`Declaring a dataframe to view the BoW`** "
      ],
      "metadata": {
        "id": "WobJAuHlxRAJ"
      }
    },
    {
      "cell_type": "code",
      "source": [
        "bowFrame = pd.DataFrame(index = indexes, columns = finalWords)"
      ],
      "metadata": {
        "id": "l3xfXs5ExRuZ"
      },
      "execution_count": 176,
      "outputs": []
    },
    {
      "cell_type": "markdown",
      "source": [
        "## **`Finding word avaibility in the sentences`**"
      ],
      "metadata": {
        "id": "dJYmCTT8yUtY"
      }
    },
    {
      "cell_type": "code",
      "source": [
        "for word in finalWords: \n",
        "  for sentence in indexes:\n",
        "    if word in sentences[sentence]: \n",
        "      bowFrame[word][sentence] = 1\n",
        "    else:\n",
        "      bowFrame[word][sentence] = 0"
      ],
      "metadata": {
        "id": "Zv8Tac1nl3i6"
      },
      "execution_count": 177,
      "outputs": []
    },
    {
      "cell_type": "markdown",
      "source": [
        "## **`Final Bag of Words DataFrame`**"
      ],
      "metadata": {
        "id": "DIoNNwbrxGwa"
      }
    },
    {
      "cell_type": "code",
      "source": [
        "bowFrame"
      ],
      "metadata": {
        "colab": {
          "base_uri": "https://localhost:8080/",
          "height": 175
        },
        "id": "ydjDtugFl3qa",
        "outputId": "9febbcab-cbf4-4bc4-ea18-f6b884d3715d"
      },
      "execution_count": 178,
      "outputs": [
        {
          "output_type": "execute_result",
          "data": {
            "text/plain": [
              "   age best foolishness of stupidity time times worst\n",
              "S1   0    1           0  1         0    1     1     0\n",
              "S2   0    0           0  1         0    1     1     1\n",
              "S3   0    0           0  1         1    1     0     0\n",
              "S4   1    0           1  1         0    0     0     0"
            ],
            "text/html": [
              "\n",
              "  <div id=\"df-353928d7-c8ec-4635-8347-6a74b3f34e0e\">\n",
              "    <div class=\"colab-df-container\">\n",
              "      <div>\n",
              "<style scoped>\n",
              "    .dataframe tbody tr th:only-of-type {\n",
              "        vertical-align: middle;\n",
              "    }\n",
              "\n",
              "    .dataframe tbody tr th {\n",
              "        vertical-align: top;\n",
              "    }\n",
              "\n",
              "    .dataframe thead th {\n",
              "        text-align: right;\n",
              "    }\n",
              "</style>\n",
              "<table border=\"1\" class=\"dataframe\">\n",
              "  <thead>\n",
              "    <tr style=\"text-align: right;\">\n",
              "      <th></th>\n",
              "      <th>age</th>\n",
              "      <th>best</th>\n",
              "      <th>foolishness</th>\n",
              "      <th>of</th>\n",
              "      <th>stupidity</th>\n",
              "      <th>time</th>\n",
              "      <th>times</th>\n",
              "      <th>worst</th>\n",
              "    </tr>\n",
              "  </thead>\n",
              "  <tbody>\n",
              "    <tr>\n",
              "      <th>S1</th>\n",
              "      <td>0</td>\n",
              "      <td>1</td>\n",
              "      <td>0</td>\n",
              "      <td>1</td>\n",
              "      <td>0</td>\n",
              "      <td>1</td>\n",
              "      <td>1</td>\n",
              "      <td>0</td>\n",
              "    </tr>\n",
              "    <tr>\n",
              "      <th>S2</th>\n",
              "      <td>0</td>\n",
              "      <td>0</td>\n",
              "      <td>0</td>\n",
              "      <td>1</td>\n",
              "      <td>0</td>\n",
              "      <td>1</td>\n",
              "      <td>1</td>\n",
              "      <td>1</td>\n",
              "    </tr>\n",
              "    <tr>\n",
              "      <th>S3</th>\n",
              "      <td>0</td>\n",
              "      <td>0</td>\n",
              "      <td>0</td>\n",
              "      <td>1</td>\n",
              "      <td>1</td>\n",
              "      <td>1</td>\n",
              "      <td>0</td>\n",
              "      <td>0</td>\n",
              "    </tr>\n",
              "    <tr>\n",
              "      <th>S4</th>\n",
              "      <td>1</td>\n",
              "      <td>0</td>\n",
              "      <td>1</td>\n",
              "      <td>1</td>\n",
              "      <td>0</td>\n",
              "      <td>0</td>\n",
              "      <td>0</td>\n",
              "      <td>0</td>\n",
              "    </tr>\n",
              "  </tbody>\n",
              "</table>\n",
              "</div>\n",
              "      <button class=\"colab-df-convert\" onclick=\"convertToInteractive('df-353928d7-c8ec-4635-8347-6a74b3f34e0e')\"\n",
              "              title=\"Convert this dataframe to an interactive table.\"\n",
              "              style=\"display:none;\">\n",
              "        \n",
              "  <svg xmlns=\"http://www.w3.org/2000/svg\" height=\"24px\"viewBox=\"0 0 24 24\"\n",
              "       width=\"24px\">\n",
              "    <path d=\"M0 0h24v24H0V0z\" fill=\"none\"/>\n",
              "    <path d=\"M18.56 5.44l.94 2.06.94-2.06 2.06-.94-2.06-.94-.94-2.06-.94 2.06-2.06.94zm-11 1L8.5 8.5l.94-2.06 2.06-.94-2.06-.94L8.5 2.5l-.94 2.06-2.06.94zm10 10l.94 2.06.94-2.06 2.06-.94-2.06-.94-.94-2.06-.94 2.06-2.06.94z\"/><path d=\"M17.41 7.96l-1.37-1.37c-.4-.4-.92-.59-1.43-.59-.52 0-1.04.2-1.43.59L10.3 9.45l-7.72 7.72c-.78.78-.78 2.05 0 2.83L4 21.41c.39.39.9.59 1.41.59.51 0 1.02-.2 1.41-.59l7.78-7.78 2.81-2.81c.8-.78.8-2.07 0-2.86zM5.41 20L4 18.59l7.72-7.72 1.47 1.35L5.41 20z\"/>\n",
              "  </svg>\n",
              "      </button>\n",
              "      \n",
              "  <style>\n",
              "    .colab-df-container {\n",
              "      display:flex;\n",
              "      flex-wrap:wrap;\n",
              "      gap: 12px;\n",
              "    }\n",
              "\n",
              "    .colab-df-convert {\n",
              "      background-color: #E8F0FE;\n",
              "      border: none;\n",
              "      border-radius: 50%;\n",
              "      cursor: pointer;\n",
              "      display: none;\n",
              "      fill: #1967D2;\n",
              "      height: 32px;\n",
              "      padding: 0 0 0 0;\n",
              "      width: 32px;\n",
              "    }\n",
              "\n",
              "    .colab-df-convert:hover {\n",
              "      background-color: #E2EBFA;\n",
              "      box-shadow: 0px 1px 2px rgba(60, 64, 67, 0.3), 0px 1px 3px 1px rgba(60, 64, 67, 0.15);\n",
              "      fill: #174EA6;\n",
              "    }\n",
              "\n",
              "    [theme=dark] .colab-df-convert {\n",
              "      background-color: #3B4455;\n",
              "      fill: #D2E3FC;\n",
              "    }\n",
              "\n",
              "    [theme=dark] .colab-df-convert:hover {\n",
              "      background-color: #434B5C;\n",
              "      box-shadow: 0px 1px 3px 1px rgba(0, 0, 0, 0.15);\n",
              "      filter: drop-shadow(0px 1px 2px rgba(0, 0, 0, 0.3));\n",
              "      fill: #FFFFFF;\n",
              "    }\n",
              "  </style>\n",
              "\n",
              "      <script>\n",
              "        const buttonEl =\n",
              "          document.querySelector('#df-353928d7-c8ec-4635-8347-6a74b3f34e0e button.colab-df-convert');\n",
              "        buttonEl.style.display =\n",
              "          google.colab.kernel.accessAllowed ? 'block' : 'none';\n",
              "\n",
              "        async function convertToInteractive(key) {\n",
              "          const element = document.querySelector('#df-353928d7-c8ec-4635-8347-6a74b3f34e0e');\n",
              "          const dataTable =\n",
              "            await google.colab.kernel.invokeFunction('convertToInteractive',\n",
              "                                                     [key], {});\n",
              "          if (!dataTable) return;\n",
              "\n",
              "          const docLinkHtml = 'Like what you see? Visit the ' +\n",
              "            '<a target=\"_blank\" href=https://colab.research.google.com/notebooks/data_table.ipynb>data table notebook</a>'\n",
              "            + ' to learn more about interactive tables.';\n",
              "          element.innerHTML = '';\n",
              "          dataTable['output_type'] = 'display_data';\n",
              "          await google.colab.output.renderOutput(dataTable, element);\n",
              "          const docLink = document.createElement('div');\n",
              "          docLink.innerHTML = docLinkHtml;\n",
              "          element.appendChild(docLink);\n",
              "        }\n",
              "      </script>\n",
              "    </div>\n",
              "  </div>\n",
              "  "
            ]
          },
          "metadata": {},
          "execution_count": 178
        }
      ]
    }
  ]
}